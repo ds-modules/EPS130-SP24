{
 "cells": [
  {
   "cell_type": "markdown",
   "id": "3fef58b0",
   "metadata": {},
   "source": [
    "## Homework 4 on Instrumentation\n",
    "\n",
    "In this homework you will examine the indicator equation and the design of seismic instruments, and interpret observations from an earthquake recorded on modern and historical instrumentation.  As before save the workbook as a pdf and upload to bcourses"
   ]
  },
  {
   "cell_type": "code",
   "execution_count": 13,
   "id": "1810f710",
   "metadata": {},
   "outputs": [],
   "source": [
    "import math\n",
    "import numpy as np\n",
    "import matplotlib.pyplot as plt"
   ]
  },
  {
   "cell_type": "markdown",
   "id": "72b76d4e",
   "metadata": {},
   "source": [
    "### Part1: Indicator Equation (20 pts)\n",
    "\n",
    "The indicator equation describes the response of a single degree of freedom oscillator that is weakly coupled to the ground through a spring suspension system and mechanical damping system. Under certain conditions dictated by the parameters of the indicator equation related to the design of the instrument the mass remains fixed in space in an absolute, inertial reference frame as the ground moves beneath it. Understanding the response of this system is important to seismologists in that the desired information is not the relative motion of the instrument with respect to its internal reference frame, but the actual motion of the ground on which the instrument is resting. It is possible using filter theory to remove the response of the instrument."
   ]
  },
  {
   "cell_type": "markdown",
   "id": "57ad9eb1",
   "metadata": {},
   "source": [
    "**Problem 1:** It is desired to have broadband recordings at high frequency that is flat in displacement above a frequency of 0.1 Hz. If the mass of the recording instrument is 10 grams, and is critically damped, what is the value of the spring elasticity coefficient, and units considering the original indicator equation?"
   ]
  },
  {
   "cell_type": "code",
   "execution_count": 14,
   "id": "853d293b",
   "metadata": {},
   "outputs": [],
   "source": [
    "#work and answer here"
   ]
  },
  {
   "cell_type": "markdown",
   "id": "d9bf8673",
   "metadata": {},
   "source": [
    "**Problem 2:** If the spring coefficient remains unchanged how does the response of the instrument change if the mass is reduced to 1 gram?"
   ]
  },
  {
   "cell_type": "code",
   "execution_count": 15,
   "id": "c49de727",
   "metadata": {},
   "outputs": [],
   "source": [
    "#work and answer here"
   ]
  },
  {
   "cell_type": "markdown",
   "id": "5fd6dc21",
   "metadata": {},
   "source": [
    "**Problem 3:** Write code to compute and plot the acceleration and displacement frequency domain response of the instruments in problems 1 and 2. Use a loglog plot (plt.loglog()). The easiest way to do this is to define an array of frequency and then use it in the frequency domain amplitude spectra equations. Remember you want to use a critially damped instrument (although it might be intesting to examine different amounts of damping on the solution). The output will will the same length array as the frequency array."
   ]
  },
  {
   "cell_type": "code",
   "execution_count": 16,
   "id": "747e2ef6",
   "metadata": {},
   "outputs": [],
   "source": [
    "#work and answer here\n",
    "freq_0=...\n",
    "damp=...\n",
    "#omeg_0=2*np.pi*freq_0\n",
    "\n",
    "freq=np.arange(0,20,0.01)\n"
   ]
  },
  {
   "cell_type": "markdown",
   "id": "aba9c1b2",
   "metadata": {},
   "source": [
    "### Part2: Observation and Inference from Seismic Records (30 pts)\n",
    "\n",
    "Modern broadband and high dynamic range instruments use electronic feedback to maintain mass position thereby increasing dramatically the linearity of the response and through electronic control the band width of the response. Whereas it once required two or more stations on a single pier to obtain records spanning the observational range of earthquake phenomena now only one of these modern force-feed back instruments is needed. In Figure 1 the Fourier Amplitude Spectrum of the transverse component record from Parkfield for the October 31, 2007 Alum Rock Mw5.4 earthquake is compared to a spectrum of pre-event noise. Figure 2 compares the broadband ground displacement with several historic instruments such as the short- and long-period Wood-Andersons, the Galitzen, and the Press-Ewing. These instruments are obviously tuned to be sensitive to different frequency (period) passbands.\n",
    "\n",
    "<img src=\"./fig1.jpg\">\n",
    "*Figure 1. Fourier Amplitude spectra for the October 31, 2007 Alumrock earthquake recorded at Parkfield (PKD) is compared to the spectrum from a pre-earthquake noise sample. Note the peak in the noise between 0.1 to 0.2 Hz.*\n",
    "\n",
    "<img src=\"./fig2.jpg\">\n",
    "*Figure 2. Broadband ground displacement is compared to seismograms from four historical instruments. The record shown is for the transverse component recorded at PKD approximately 198 km SE of the epicenter. Note that while in the first trace the amplitude is actual ground displacement in cm, for the other stations it is the amplitude registered on the instrument.*"
   ]
  },
  {
   "cell_type": "markdown",
   "id": "f7863f8c",
   "metadata": {},
   "source": [
    "**Problem 1:** Qualitatively describe the difference between the earthquake and the noise spectra (Figure 1). What is the cause of the peaked background noise between 0.1 to 0.2 Hz (10 to 5 seconds period)? "
   ]
  },
  {
   "cell_type": "markdown",
   "id": "a0d23d9b",
   "metadata": {},
   "source": [
    "**Problem 2:** Annotate Figure 2 with picks of the P-wave, S-wave and Love wave. Figure 2 is also provided as a pdf. You can print it out, annotated it and either scan it as a pdf or take a photograph (jpg) and incorporate it into your notebook. You can see how that is done above in the cells showing the figures. \n",
    "\n",
    "Note that picking the first arriving S-wave can be difficult. It will be helpful to utilize the records from the different instrument types to identify the phase arrivals. When picking S-waves you look for both a change in amplitude and frequency where the S-wave tends to be a little lower frequency than the P-wave. For the Love and Rayleigh waves they tend to be longer period on the order of 5 to 10+ seconds. Give a brief justification or explanation for the picks that you have made. Is any particular instrument more suitable for making the body wave (P and S) identifications? What about for the surface wave identification?"
   ]
  },
  {
   "cell_type": "markdown",
   "id": "a8230b98",
   "metadata": {},
   "source": [
    "**Problem 3:** For the four instrument types estimate the dominant period of the recorded signal. This can be done by making several measurements of wave period. You can use a mm-scale (ruler) to measure the periods. Based on your measurements speculate on the natural period of each of the instruments."
   ]
  },
  {
   "cell_type": "markdown",
   "id": "03fd861d",
   "metadata": {},
   "source": [
    "**Problem 4:** It seems that the Galitzen record is noticeably noisier (the oscillatory signal before the P-wave arrival). What is the origin of the noise? Based on your period estimate is there any correlation with the noise spectrum shown in Figure 1? You may want to consult the textbook for information about what the noise might be from."
   ]
  },
  {
   "cell_type": "code",
   "execution_count": null,
   "id": "4e4b6f30",
   "metadata": {},
   "outputs": [],
   "source": []
  }
 ],
 "metadata": {
  "kernelspec": {
   "display_name": "Python 3 (ipykernel)",
   "language": "python",
   "name": "python3"
  },
  "language_info": {
   "codemirror_mode": {
    "name": "ipython",
    "version": 3
   },
   "file_extension": ".py",
   "mimetype": "text/x-python",
   "name": "python",
   "nbconvert_exporter": "python",
   "pygments_lexer": "ipython3",
   "version": "3.9.7"
  }
 },
 "nbformat": 4,
 "nbformat_minor": 5
}
